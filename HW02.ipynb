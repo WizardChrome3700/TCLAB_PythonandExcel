{
  "cells": [
    {
      "cell_type": "markdown",
      "metadata": {
        "id": "_V5Mjos76Lrl"
      },
      "source": [
        "## Homework 3: Solve Equations\n",
        "\n",
        "Systems of equations are solved by finding variable values that satisfy all of the equations. With linear systems of equations, there is typically a unique solution that is easy to solve, even for large-scale systems. Nonlinear equations can be more challenging to solve and may have multiple solutions. Variable bounds and a good initial guess are sometimes required for nonlinear systems of equations. This section is to solve systems of:\n",
        "\n",
        "* Linear systems of equations\n",
        "* Nonlinear systems of equations"
      ]
    },
    {
      "cell_type": "markdown",
      "metadata": {
        "id": "ucOf-w546Lrm"
      },
      "source": [
        "### Problem #1\n",
        "\n",
        "Solve the following systems of linear algebraic equations $\\left(A\\,x = b\\right)$ using matrix calculations such as:\n",
        "\n",
        "$\\left[ {\\begin{array}{cc} 1 & 2 \\\\ 1.5 & -1 \\\\ \\end{array} } \\right] \\left[ {\\begin{array}{c} x_0 \\\\ x_1 \\end{array} } \\right] = \\left[ {\\begin{array}{c} 0 \\\\ 0.5 \\end{array} } \\right]$\n",
        "\n",
        "An array is defined with square brackets as a list or numpy array.\n",
        "\n",
        "***Vector:*** A vector (1D array) is:\n",
        "\n",
        "$b = \\left[ {\\begin{array}{c} 0 \\\\ 0.5 \\end{array} } \\right]$\n",
        "\n",
        "and is defined as a list:\n",
        "\n",
        "```python\n",
        "b = [0,0.5]\n",
        "```\n",
        "\n",
        "or as a numpy array:\n",
        "\n",
        "```python\n",
        "b = np.array([0,0.5])\n",
        "```\n",
        "\n",
        "***Matrix:*** A matrix (2D array) is:\n",
        "\n",
        "$A = \\left[ {\\begin{array}{cc} 1 & 2 \\\\ 1.5 & -1 \\\\ \\end{array} } \\right]$\n",
        "\n",
        "and is defined as a list:\n",
        "\n",
        "```python\n",
        "A = [[1.0, 2.0],[1.5,-1.0]]\n",
        "```\n",
        "\n",
        "or as a numpy array:\n",
        "\n",
        "```python\n",
        "A = np.array([[1.0, 2.0],[1.5,-1.0]])\n",
        "```"
      ]
    },
    {
      "cell_type": "markdown",
      "metadata": {
        "id": "7ChksrWq6Lrn"
      },
      "source": [
        "***Solution Method #1:*** The solution to this set of equations can be found by inverting the matrix $A$ and multiplying by $b$ as $x=A^{-1}\\,b$.\n",
        "\n",
        "$\\left[ {\\begin{array}{c} x_0 \\\\ x_1 \\end{array} } \\right] = \\left[ {\\begin{array}{cc} 1 & 2 \\\\ 1.5 & -1 \\\\ \\end{array} } \\right]^{-1} \\left[ {\\begin{array}{c} 0 \\\\ 0.5 \\end{array} } \\right]$\n",
        "\n",
        "The inverse of a matrix can be found with the function ```np.linalg.inv```. Two matrices are multiplied together with the dot product with function ```np.dot```."
      ]
    },
    {
      "cell_type": "code",
      "execution_count": 28,
      "metadata": {
        "id": "257Loq6r6Lro",
        "outputId": "284501d6-1b61-4c46-caf0-a1ac0d3c881c",
        "colab": {
          "base_uri": "https://localhost:8080/"
        }
      },
      "outputs": [
        {
          "output_type": "stream",
          "name": "stdout",
          "text": [
            "[ 0.25  -0.125]\n"
          ]
        }
      ],
      "source": [
        "# practice problem\n",
        "import numpy as np\n",
        "A = [[1.0, 2.0],[1.5,-1.0]]\n",
        "b = [0,0.5]\n",
        "invA = np.linalg.inv(A)\n",
        "x = np.dot(invA,b)\n",
        "print(x)"
      ]
    },
    {
      "cell_type": "markdown",
      "metadata": {
        "id": "c4Oze45j6Lrq"
      },
      "source": [
        "***Solution Method #2:*** The function ```np.linalg.solve``` can also be used to find ```x``` for linear systems of equations."
      ]
    },
    {
      "cell_type": "code",
      "execution_count": 29,
      "metadata": {
        "id": "xCf_n-Ac6Lrq",
        "outputId": "05ff6e42-f013-4461-c425-c6af1668d435",
        "colab": {
          "base_uri": "https://localhost:8080/"
        }
      },
      "outputs": [
        {
          "output_type": "stream",
          "name": "stdout",
          "text": [
            "[ 0.25  -0.125]\n"
          ]
        }
      ],
      "source": [
        "x = np.linalg.solve(A,b)\n",
        "print(x)"
      ]
    },
    {
      "cell_type": "markdown",
      "metadata": {
        "id": "gktvteGr6Lrq"
      },
      "source": [
        "***Parse Solution:*** Individual values can be accessed by referencing the specific location in the array. An array index starts with 0."
      ]
    },
    {
      "cell_type": "code",
      "execution_count": 30,
      "metadata": {
        "id": "xt2qxTu16Lrr",
        "outputId": "0081702e-1789-4ec6-986b-bf4c359ed512",
        "colab": {
          "base_uri": "https://localhost:8080/"
        }
      },
      "outputs": [
        {
          "output_type": "stream",
          "name": "stdout",
          "text": [
            "0.25\n"
          ]
        }
      ],
      "source": [
        "print(x[0])"
      ]
    },
    {
      "cell_type": "markdown",
      "metadata": {
        "id": "txr11da36Lrr"
      },
      "source": [
        "***Last Value in Array:*** The last value of this array can be accessed with ```x[1]``` or with ```x[-1]```."
      ]
    },
    {
      "cell_type": "code",
      "execution_count": 31,
      "metadata": {
        "id": "6ogW8xZ76Lrs",
        "outputId": "0235369a-afbd-4e65-c4af-77f041ddb818",
        "colab": {
          "base_uri": "https://localhost:8080/"
        }
      },
      "outputs": [
        {
          "output_type": "stream",
          "name": "stdout",
          "text": [
            "-0.125\n",
            "-0.125\n"
          ]
        }
      ],
      "source": [
        "print(x[1])\n",
        "print(x[-1])"
      ]
    },
    {
      "cell_type": "markdown",
      "metadata": {
        "id": "2Odtq2VG6Lrs"
      },
      "source": [
        "***Array References:*** The second to last value of any array can be accessed with ```x[-2]```."
      ]
    },
    {
      "cell_type": "code",
      "execution_count": 32,
      "metadata": {
        "id": "z9IcfFoG6Lrt",
        "outputId": "1073d730-442b-4055-d275-47efdeeb6c1b",
        "colab": {
          "base_uri": "https://localhost:8080/"
        }
      },
      "outputs": [
        {
          "output_type": "stream",
          "name": "stdout",
          "text": [
            "0.25\n"
          ]
        }
      ],
      "source": [
        "print(x[-2])"
      ]
    },
    {
      "cell_type": "markdown",
      "metadata": {
        "id": "LDbH9-Yu6Lru"
      },
      "source": [
        "***Action:*** Find the values of ```x``` that satisfy the following system of linear equations ($A \\, x = b$):\n",
        "\n",
        "$\\left[ {\\begin{array}{ccccc} 11 & 3 & 0 & 1 & 2 \\\\ 0 & 4 & 2 & 0 & 1 \\\\ 3 & 2 & 7 & 1 & 0 \\\\ 4 & 0 & 4 & 10 & 1 \\\\ 2 & 5& 1 & 3 & 14 \\end{array} } \\right] \\left[ {\\begin{array}{c} x_0 \\\\ x_1 \\\\ x_2 \\\\ x_3 \\\\ x_4 \\end{array} } \\right] = \\left[ {\\begin{array}{c} 45 \\\\ 30 \\\\ 15 \\\\ 20 \\\\ 92 \\end{array} } \\right]$"
      ]
    },
    {
      "cell_type": "code",
      "execution_count": 33,
      "metadata": {
        "id": "POlUkLiA6Lru"
      },
      "outputs": [],
      "source": [
        "A = [[11.0, 3.0, 0.0,  1.0,  2.0],\\\n",
        "     [ 0.0, 4.0, 2.0,  0.0,  1.0],\\\n",
        "     [ 3.0, 2.0, 7.0,  1.0,  0.0],\\\n",
        "     [ 4.0, 0.0, 4.0, 10.0,  1.0],\\\n",
        "     [ 2.0, 5.0, 1.0,  3.0, 14.0]]\n",
        "b = [45.0, 30.0, 15.0, 20.0, 92.0]"
      ]
    },
    {
      "cell_type": "markdown",
      "metadata": {
        "id": "xTq5I0VI6Lru"
      },
      "source": [
        "***Action:*** Solve the equations with a different method and compare the solution to the one above."
      ]
    },
    {
      "cell_type": "code",
      "execution_count": 34,
      "metadata": {
        "id": "HURozN4n6Lrv"
      },
      "outputs": [],
      "source": [
        "x = np.matmul(np.linalg.inv(A), np.transpose(b))"
      ]
    },
    {
      "cell_type": "markdown",
      "metadata": {
        "id": "e4b7EliE6Lrv"
      },
      "source": [
        "***Action:*** Print the last value of ```x```."
      ]
    },
    {
      "cell_type": "code",
      "execution_count": 36,
      "metadata": {
        "id": "IiiUXqTg6Lrv",
        "outputId": "1f263012-bbae-494d-a0ee-a781e32222ec",
        "colab": {
          "base_uri": "https://localhost:8080/"
        }
      },
      "outputs": [
        {
          "output_type": "stream",
          "name": "stdout",
          "text": [
            "[ 1.42390247  6.89546722 -0.62518643  1.31366319  3.66850399]\n"
          ]
        }
      ],
      "source": [
        "print(x)"
      ]
    },
    {
      "cell_type": "markdown",
      "metadata": {
        "id": "t-JhMuAa6Lrv"
      },
      "source": [
        "### Problem #2\n",
        "\n",
        "A nonlinear equation solver such as ```scipy.optimize.fsolve``` can also solve linear equations. Returning to the introductory example:\n",
        "\n",
        "$\\left[ {\\begin{array}{cc} 1 & 2 \\\\ 1.5 & -1 \\\\ \\end{array} } \\right] \\left[ {\\begin{array}{c} x_0 \\\\ x_1 \\end{array} } \\right] = \\left[ {\\begin{array}{c} 0 \\\\ 0.5 \\end{array} } \\right]$\n",
        "\n",
        "This is solved with ```fsolve``` by placing all of the equations to one side as:\n",
        "\n",
        "$\\left[ {\\begin{array}{cc} 1 & 2 \\\\ 1.5 & -1 \\\\ \\end{array} } \\right] \\left[ {\\begin{array}{c} x_0 \\\\ x_1 \\end{array} } \\right] - \\left[ {\\begin{array}{c} 0 \\\\ 0.5 \\end{array} } \\right] = \\left[ {\\begin{array}{c} f_0 \\\\ f_1 \\end{array} } \\right]$\n",
        "\n",
        "The equation is solved when $f_0$ and $f_1$ are equal to zero. The ```fsolve``` function requires a function that returns the residuals ($f_1$ and $f_2$)."
      ]
    },
    {
      "cell_type": "code",
      "execution_count": 37,
      "metadata": {
        "id": "Yzt30mSO6Lrv"
      },
      "outputs": [],
      "source": [
        "def f(x):\n",
        "    f1 = x[0]+2*x[1]\n",
        "    f2 = 1.5*x[0]-x[1]-0.5\n",
        "    return [f1,f2]"
      ]
    },
    {
      "cell_type": "markdown",
      "metadata": {
        "id": "_lpD6J4K6Lrw"
      },
      "source": [
        "The function solver ```fsolve``` also  an initial guess. A few guess values are evaluated below."
      ]
    },
    {
      "cell_type": "code",
      "execution_count": 38,
      "metadata": {
        "id": "o94_L66m6Lrw",
        "outputId": "cbe6e84f-9c69-4499-f82f-07c46befa300",
        "colab": {
          "base_uri": "https://localhost:8080/"
        }
      },
      "outputs": [
        {
          "output_type": "stream",
          "name": "stdout",
          "text": [
            "[0.0, -0.5]\n",
            "[1.5, -0.25]\n",
            "[1.0, 1.0]\n"
          ]
        }
      ],
      "source": [
        "# guess solutions\n",
        "print(f([0.0,0.0]))\n",
        "print(f([0.5,0.5]))\n",
        "print(f([1.0,0.0]))"
      ]
    },
    {
      "cell_type": "markdown",
      "metadata": {
        "id": "h1nTehG96Lrw"
      },
      "source": [
        "Guess values for $x_0$ and $x_1$ are selected as ```[1,1]``` and ```fsolve``` finds the solution."
      ]
    },
    {
      "cell_type": "code",
      "execution_count": 39,
      "metadata": {
        "id": "cw822za96Lrx",
        "outputId": "7a562aad-3fd0-453c-816b-ae316328fe57",
        "colab": {
          "base_uri": "https://localhost:8080/"
        }
      },
      "outputs": [
        {
          "output_type": "stream",
          "name": "stdout",
          "text": [
            "[ 0.25  -0.125]\n"
          ]
        }
      ],
      "source": [
        "from scipy.optimize import fsolve\n",
        "x = fsolve(f,[1,1])\n",
        "print(x)"
      ]
    },
    {
      "cell_type": "markdown",
      "metadata": {
        "id": "Vv1qmIb26Lrx"
      },
      "source": [
        "***Action:*** Determine one solution for $x$ and $y$ to the following equations (there are 4 possible solutions).\n",
        "\n",
        "$2 x^2 + y^2 = 1$\n",
        "\n",
        "$(0.5x-0.5)^2+2(y-0.25)^2=1$\n",
        "\n",
        "![graph.png](attachment:graph.png)\n",
        "\n",
        "The initial guess can be adjusted to find a different solution."
      ]
    },
    {
      "cell_type": "code",
      "execution_count": 44,
      "metadata": {
        "id": "Og66SQmQ6Lrx",
        "outputId": "5f4f8ea1-ab92-44d1-c553-794ae849b74d",
        "colab": {
          "base_uri": "https://localhost:8080/"
        }
      },
      "outputs": [
        {
          "output_type": "stream",
          "name": "stdout",
          "text": [
            "[-0.70187507 -0.12141978]\n"
          ]
        }
      ],
      "source": [
        "def f1(x):\n",
        "  return [(2*(x[0]**2) + x[1]**2 - 1) , ((0.5*x[0] -0.5)**2 + 2*(x[1] - 0.25)**2 - 1)]\n",
        "\n",
        "x = fsolve(f1,[0,0])\n",
        "print(x)"
      ]
    },
    {
      "cell_type": "markdown",
      "metadata": {
        "id": "zlE0kpLl6Lrx"
      },
      "source": [
        "### Problem #3\n",
        "\n",
        "The Redlich/Kwong Equation of State is\n",
        "\n",
        "$P = \\frac{R_g \\, T}{V-b} - \\frac{a}{T^{1/2} \\, V \\, \\left(V+b\\right)}$\n",
        "\n",
        "where $T$ is the temperature, $V$ is the molar volume, $R_g$ is the universal gas constant, and $a$ and $b$ are compound-specific constants.  Find the molar volume of ethane for each phase that is present at $T = 77 \\, °C$ and $P = 1 \\, bar$.  For ethane, $a = 2.877×10^8 \\, \\frac{cm^6 bar K^{0.5}}{mol^2}$ and $b = 60.211 \\, \\frac{cm^3}{mol}$.\n",
        "\n",
        "* Use the ideal gas law to obtain the guess of the vapor volume and 1.1*b to obtain the guess for the liquid volume.  (Graphing helps find good guesses for solver)\n",
        "* You may need to include some constraints.\n",
        "* IF YOU ARE STUCK ask a friend, the TA OR the instructor!  Don’t spent so much time feeling lost that you become discouraged.\n",
        "* You should obtain something around 28637 $cm^3/mol$ for the vapor volume and 82.477 $cm^3/mol$ for the liquid volume.  The middle root (not required but for your information) is in between."
      ]
    },
    {
      "cell_type": "code",
      "execution_count": 45,
      "metadata": {
        "id": "RxvK4j5S6Lry"
      },
      "outputs": [],
      "source": [
        "import numpy as np\n",
        "from scipy.optimize import fsolve\n",
        "\n",
        "# constants\n",
        "TC = 77 # degC\n",
        "P = 1.0 # bar\n",
        "a = 2.877e8 # cm^6 bar K^0.5 / mol^2\n",
        "b = 60.211  # cm^3 / mol\n",
        "Rg = 83.144598 # cm^3 bar / K-mol\n",
        "# derived quantities\n",
        "TK = TC+273.15 # K\n",
        "\n",
        "# define function for fsolve\n",
        "def f(V):\n",
        "    return P - (Rg*TK)/(V-b) - a/((TK**(1/2))*V*(V+b))"
      ]
    },
    {
      "cell_type": "markdown",
      "metadata": {
        "id": "ZajfgBZR6Lry"
      },
      "source": [
        "### Problem #4\n",
        "\n",
        "Imagine mixing liquid benzene (species 1) and toluene (species 2) together in an initially empty container. At equilibrium, some of the liquid from both species evaporates into the vapor phase and some is left liquid phase for certain temperatures and pressures. In thermodynamics, you learn that Raoult’s law may be used to describe the distribution of species in each phase. For the specific example mentioned above, Raoult’s law gives the following two expressions describing the equilibrium state\n",
        "\n",
        "$y_1 \\, P = x_1 \\, P_1^{sat}(T)$\n",
        "$y_2 \\, P = x_2 \\, P_2^{sat}(T)$\n",
        "\n",
        "where $y_i$ is the mole fraction of species $i$ (either 1 or 2) in the vapor phase, $x_i$ is the mole fraction of species $i$ in the liquid phase, $P_i^{sat}(T)$ is the vapor pressure of species $i$ at the system temperature $T$, and $P$ is the system pressure.\n",
        "\n",
        "The vapor pressures of benzene and toluene can be found using the Antione Equation.\n",
        "\n",
        "$\\ln{\\left( P_i^{sat}(T) (in\\,kPa) \\right)} = A_i - \\frac{B_i}{T (in \\, ^oC) + C_i}$\n",
        "\n",
        "Note that $P_i^{sat}(T)$ is not $P_i^{sat}$ times $T$, but is simply showing that $P_i^{sat}$ is a function of $T$.  The constants, $A$, $B$, and $C$, are compound specific and are found in the table below.\n",
        "\n",
        "***Antoine Constants for Benzene and Toluene:***\n",
        "\n",
        "| Compound | A | B | C |\n",
        "| --- | --- | --- | --- |\n",
        "| Benzene | 13.7819 | 2726.81 | 217.572 |\n",
        "| Toluene | 13.9320 | 3056.96 | 217.625 |\n",
        "\n",
        "If a mixture of benzene (species 1) and toluene (species 2) has $y_1 = 0.33$ and $P = 120 \\, kPa$, find $x_1$ and $T$. Remember that the mole fractions of each phase must sum to 1.\n",
        "\n",
        "* First figure out what you are solving for.  Then figure out how many equations you have.\n",
        "* You might want to set up a function for $P_1^{sat}$ and $P_2^{sat}$ that are a function of $T$.\n",
        "* You should get about 0.17 for $x_1$ and $109 °C$ for $T$."
      ]
    },
    {
      "cell_type": "code",
      "execution_count": 72,
      "metadata": {
        "id": "LZWCPjUV6Lry",
        "outputId": "b443fabf-97a3-4fc5-e33a-aa57c07d4487",
        "colab": {
          "base_uri": "https://localhost:8080/"
        }
      },
      "outputs": [
        {
          "output_type": "stream",
          "name": "stdout",
          "text": [
            "[1.13082962e+03 3.09418044e-01 6.90581956e-01]\n"
          ]
        }
      ],
      "source": [
        "def Psat(T, A, B, C):\n",
        "  return np.exp(A - B/(T + C))\n",
        "g1 = [13.7819, 2726.81,\t217.572]\n",
        "g2 = [13.9320, 3056.96,\t217.625]\n",
        "\n",
        "# A = [13.7819, 13.9320]\n",
        "# B = [2726.81, 3056.96]\n",
        "# C = [217.572, 217.625]\n",
        "y1 = 0.33\n",
        "P = 120e3\n",
        "def f(x):\n",
        "  return [Psat(x[0], g1[0], g1[1], g1[2])*x[1] - y1*P, Psat(x[0], g2[0], g2[1], g2[2])*x[2] - (1-y1)*P, x[1] + x[2] - 1]\n",
        "print(fsolve(f,[200,0.3,0.7]))"
      ]
    }
  ],
  "metadata": {
    "kernelspec": {
      "display_name": "Python 3",
      "language": "python",
      "name": "python3"
    },
    "language_info": {
      "codemirror_mode": {
        "name": "ipython",
        "version": 3
      },
      "file_extension": ".py",
      "mimetype": "text/x-python",
      "name": "python",
      "nbconvert_exporter": "python",
      "pygments_lexer": "ipython3",
      "version": "3.7.0"
    },
    "colab": {
      "provenance": []
    }
  },
  "nbformat": 4,
  "nbformat_minor": 0
}